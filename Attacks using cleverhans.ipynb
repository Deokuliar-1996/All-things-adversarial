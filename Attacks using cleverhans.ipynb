{
 "cells": [
  {
   "cell_type": "code",
   "execution_count": 3,
   "metadata": {},
   "outputs": [
    {
     "name": "stdout",
     "output_type": "stream",
     "text": [
      "\n",
      "Tensorflow Version: 2.7.0\n",
      "Cleverhans Version: 4.0.0-edc15c6ec93c96562523dc42ae33c9e7\n"
     ]
    }
   ],
   "source": [
    "import cleverhans\n",
    "import tensorflow as tf\n",
    "import numpy as np\n",
    "import matplotlib.pyplot as plt\n",
    "\n",
    "print(\"\\nTensorflow Version: \" + tf.__version__)\n",
    "print(\"Cleverhans Version: \" + cleverhans.__version__)"
   ]
  },
  {
   "cell_type": "code",
   "execution_count": 4,
   "metadata": {},
   "outputs": [],
   "source": [
    "mnist = tf.keras.datasets.mnist\n",
    "(train_images, train_labels), (test_images, test_labels) = mnist.load_data()\n",
    "\n",
    "train_images = train_images / 255.0\n",
    "test_images = test_images / 255.0\n",
    "\n",
    "num_classes = 10"
   ]
  },
  {
   "cell_type": "code",
   "execution_count": 5,
   "metadata": {},
   "outputs": [
    {
     "name": "stdout",
     "output_type": "stream",
     "text": [
      "Epoch 1/10\n",
      "1500/1500 [==============================] - 6s 3ms/step - loss: 0.4310 - accuracy: 0.8774 - val_loss: 0.2147 - val_accuracy: 0.9358\n",
      "Epoch 2/10\n",
      "1500/1500 [==============================] - 5s 3ms/step - loss: 0.1957 - accuracy: 0.9434 - val_loss: 0.1725 - val_accuracy: 0.9477\n",
      "Epoch 3/10\n",
      "1500/1500 [==============================] - 4s 3ms/step - loss: 0.1531 - accuracy: 0.9552 - val_loss: 0.1535 - val_accuracy: 0.9544\n",
      "Epoch 4/10\n",
      "1500/1500 [==============================] - 5s 3ms/step - loss: 0.1295 - accuracy: 0.9624 - val_loss: 0.1427 - val_accuracy: 0.9579\n",
      "Epoch 5/10\n",
      "1500/1500 [==============================] - 5s 3ms/step - loss: 0.1115 - accuracy: 0.9661 - val_loss: 0.1390 - val_accuracy: 0.9584\n",
      "Epoch 6/10\n",
      "1500/1500 [==============================] - 5s 3ms/step - loss: 0.0996 - accuracy: 0.9699 - val_loss: 0.1339 - val_accuracy: 0.9613\n",
      "Epoch 7/10\n",
      "1500/1500 [==============================] - 5s 4ms/step - loss: 0.0902 - accuracy: 0.9731 - val_loss: 0.1235 - val_accuracy: 0.9647\n",
      "Epoch 8/10\n",
      "1500/1500 [==============================] - 5s 3ms/step - loss: 0.0819 - accuracy: 0.9748 - val_loss: 0.1275 - val_accuracy: 0.9633\n",
      "Epoch 9/10\n",
      "1500/1500 [==============================] - 5s 3ms/step - loss: 0.0750 - accuracy: 0.9766 - val_loss: 0.1316 - val_accuracy: 0.9601\n",
      "Epoch 10/10\n",
      "1500/1500 [==============================] - 4s 3ms/step - loss: 0.0696 - accuracy: 0.9785 - val_loss: 0.1285 - val_accuracy: 0.9643\n",
      "313/313 [==============================] - 1s 3ms/step - loss: 0.1289 - accuracy: 0.9631\n",
      "Test accuracy: 0.963100016117096\n"
     ]
    }
   ],
   "source": [
    "model = tf.keras.Sequential([\n",
    "    tf.keras.layers.Flatten(input_shape=(28, 28)),\n",
    "    tf.keras.layers.Dense(32, activation=tf.nn.relu),\n",
    "    tf.keras.layers.Dense(16, activation=tf.nn.relu),\n",
    "    tf.keras.layers.Dense(10),\n",
    "    tf.keras.layers.Activation(tf.nn.softmax) # We seperate the activation layer to be able to access the logits of the previous layer later\n",
    "])\n",
    "\n",
    "model.compile(optimizer='adam',loss= 'sparse_categorical_crossentropy',metrics=['accuracy'])\n",
    "\n",
    "model.fit(train_images, train_labels, epochs=10, validation_split=0.2)\n",
    "test_loss, test_acc = model.evaluate(test_images, test_labels)\n",
    "\n",
    "print('Test accuracy:', test_acc)"
   ]
  },
  {
   "cell_type": "markdown",
   "metadata": {},
   "source": [
    "# Implementing the FGSM attack using fast_gradient_method()"
   ]
  },
  {
   "cell_type": "code",
   "execution_count": 6,
   "metadata": {},
   "outputs": [],
   "source": [
    "# fast_gradient_method(model_fn, x, eps, norm, clip_min=None, clip_max=None, y=None, targeted=False, sanity_checks=False)\n",
    "\n",
    "#model_fn: a callable that takes an input tensor and returns the model logits\n",
    "#x: input_tensor\n",
    "#eps: epsilon (dictates the \"strength\" of the distortion created)\n",
    "#norm: Order of the norm (mimics NumPy). Possible values: np.inf, 1 or 2.\n",
    "#clip_min: (optional, default=None) float. Minimum float value for adversarial example components.\n",
    "#clip_max: (optional, default=None) float. Maximum float value for adversarial example components\n",
    "#y: (optional, default=None) Tensor with true labels. If targeted is true, then provide the target label. Otherwise, only provide this parameter if you'd like to use true labels when crafting adversarial samples. Otherwise, model predictions are used as labels to avoid the \"label leaking\" effect (explained in this paper).\n",
    "#targeted: (optional, default=False) bool. Is the attack targeted or untargeted? Untargeted, the default, will try to make the label incorrect. Targeted will instead try to move in the direction of being more like y.\n",
    "#param sanity_checks: (optional, default=False) bool, if True, include asserts (Turn them off to use less runtime / memory or for unit tests that intentionally pass strange input)"
   ]
  },
  {
   "cell_type": "code",
   "execution_count": 7,
   "metadata": {},
   "outputs": [],
   "source": [
    "# Import the attack\n",
    "from cleverhans.tf2.attacks.fast_gradient_method import fast_gradient_method\n",
    "\n",
    "\n",
    "#The attack requires the model to ouput the logits\n",
    "logits_model = tf.keras.Model(model.input,model.layers[-1].output)"
   ]
  },
  {
   "cell_type": "code",
   "execution_count": 8,
   "metadata": {},
   "outputs": [],
   "source": [
    "random_index = np.random.randint(test_images.shape[0])"
   ]
  },
  {
   "cell_type": "code",
   "execution_count": 9,
   "metadata": {},
   "outputs": [
    {
     "data": {
      "image/png": "[encoded data removed]",
      "text/plain": [
       "<Figure size 432x288 with 1 Axes>"
      ]
     },
     "metadata": {
      "needs_background": "light"
     },
     "output_type": "display_data"
    }
   ],
   "source": [
    "#Choose a random image to attack from the test set\n",
    "\n",
    "original_image = test_images[random_index]\n",
    "original_image = tf.convert_to_tensor(original_image.reshape((1,28,28))) #The .reshape just gives it the proper form to input into the model, a batch of 1 a.k.a a tensor\n",
    "\n",
    "original_label = test_labels[random_index]\n",
    "original_label = np.reshape(original_label, (1,)).astype('int64') # Give label proper shape and type for cleverhans\n",
    "\n",
    "#Show the image\n",
    "plt.figure()\n",
    "plt.grid(False)\n",
    "\n",
    "plt.imshow(np.reshape(original_image, (28,28)))\n",
    "plt.title(\"Label: {}\".format(original_label[0]))\n",
    "\n",
    "plt.show()"
   ]
  },
  {
   "cell_type": "code",
   "execution_count": 10,
   "metadata": {},
   "outputs": [
    {
     "data": {
      "image/png": "[encoded data removed]",
      "text/plain": [
       "<Figure size 432x288 with 1 Axes>"
      ]
     },
     "metadata": {
      "needs_background": "light"
     },
     "output_type": "display_data"
    }
   ],
   "source": [
    "#Non-targeted FGSM attack\n",
    "\n",
    "epsilon = 0.1\n",
    "\n",
    "adv_example_untargeted_label = fast_gradient_method(logits_model, original_image, epsilon, np.inf, targeted=False)\n",
    "\n",
    "adv_example_untargeted_label_pred = model.predict(adv_example_untargeted_label)\n",
    "\n",
    "#Show the image\n",
    "plt.figure()\n",
    "plt.grid(False)\n",
    "\n",
    "plt.imshow(np.reshape(adv_example_untargeted_label, (28,28)))\n",
    "plt.title(\"Model Prediction: {}\".format(np.argmax(adv_example_untargeted_label_pred)))\n",
    "plt.xlabel(\"Original Label: {}\".format(original_label[0]))\n",
    "\n",
    "plt.show()"
   ]
  },
  {
   "cell_type": "code",
   "execution_count": 12,
   "metadata": {},
   "outputs": [
    {
     "data": {
      "image/png": "[encoded data removed]",
      "text/plain": [
       "<Figure size 432x288 with 1 Axes>"
      ]
     },
     "metadata": {
      "needs_background": "light"
     },
     "output_type": "display_data"
    }
   ],
   "source": [
    "#Targeted FGSM Attack\n",
    "\n",
    "epsilon = 0.1\n",
    "# The target value may have to be changed to work, some images are more easily missclassified as different labels\n",
    "target = 6\n",
    "\n",
    "target_label = np.reshape(target, (1,)).astype('int64') # Give target label proper size and dtype to feed through\n",
    "\n",
    "adv_example_targeted_label = fast_gradient_method(logits_model, original_image, epsilon, np.inf, y=target_label, targeted=True)\n",
    "\n",
    "adv_example_targeted_label_pred = model.predict(adv_example_targeted_label)\n",
    "\n",
    "#Show the image\n",
    "plt.figure()\n",
    "plt.grid(False)\n",
    "\n",
    "plt.imshow(np.reshape(adv_example_targeted_label, (28,28)))\n",
    "plt.title(\"Model Prediction: {}\".format(np.argmax(adv_example_targeted_label_pred)))\n",
    "plt.xlabel(\"Original Label: {}\".format(original_label[0]))\n",
    "\n",
    "plt.show()"
   ]
  },
  {
   "cell_type": "code",
   "execution_count": 13,
   "metadata": {},
   "outputs": [
    {
     "data": {
      "image/png": "[encoded data removed]",
      "text/plain": [
       "<Figure size 432x288 with 1 Axes>"
      ]
     },
     "metadata": {
      "needs_background": "light"
     },
     "output_type": "display_data"
    }
   ],
   "source": [
    "#Checking the PGD attack - untargeted\n",
    "\n",
    "from cleverhans.tf2.attacks.projected_gradient_descent import projected_gradient_descent\n",
    "\n",
    "epsilon = 0.5\n",
    "epsilon_iter = 0.02\n",
    "nb_iter = 50\n",
    "\n",
    "adv_example_untargeted_label = projected_gradient_descent(logits_model, tf.cast(original_image, dtype=tf.float32), epsilon,epsilon_iter, nb_iter, np.inf, targeted=False)\n",
    "\n",
    "adv_example_untargeted_label_pred = model.predict(adv_example_untargeted_label)\n",
    "\n",
    "#Show the image\n",
    "plt.figure()\n",
    "plt.grid(False)\n",
    "\n",
    "plt.imshow(np.reshape(adv_example_untargeted_label, (28,28)))\n",
    "plt.title(\"Model Prediction: {}\".format(np.argmax(adv_example_untargeted_label_pred)))\n",
    "plt.xlabel(\"Original Label: {}\".format(original_label[0]))\n",
    "\n",
    "plt.show()"
   ]
  },
  {
   "cell_type": "code",
   "execution_count": 14,
   "metadata": {},
   "outputs": [
    {
     "data": {
      "image/png": "[encoded data removed]",
      "text/plain": [
       "<Figure size 432x288 with 1 Axes>"
      ]
     },
     "metadata": {
      "needs_background": "light"
     },
     "output_type": "display_data"
    }
   ],
   "source": [
    "#Checking the PGD attack - targeted\n",
    "\n",
    "epsilon = 0.5\n",
    "epsilon_iter = 0.02\n",
    "nb_iter = 50\n",
    "target = 5\n",
    "\n",
    "target_label = np.reshape(target, (1,)).astype('int64') # Give target label proper size and dtype to feed through\n",
    "\n",
    "adv_example_untargeted_label = projected_gradient_descent(logits_model, tf.cast(original_image, dtype=tf.float32), epsilon,epsilon_iter, nb_iter, np.inf,y=target_label,targeted=True)\n",
    "\n",
    "adv_example_untargeted_label_pred = model.predict(adv_example_untargeted_label)\n",
    "\n",
    "#Show the image\n",
    "plt.figure()\n",
    "plt.grid(False)\n",
    "\n",
    "plt.imshow(np.reshape(adv_example_untargeted_label, (28,28)))\n",
    "plt.title(\"Model Prediction: {}\".format(np.argmax(adv_example_untargeted_label_pred)))\n",
    "plt.xlabel(\"Original Label: {}\".format(original_label[0]))\n",
    "\n",
    "plt.show()"
   ]
  },
  {
   "cell_type": "code",
   "execution_count": 35,
   "metadata": {},
   "outputs": [],
   "source": [
    "#C&W attack untargeted attack\n",
    "\n",
    "#from cleverhans.tf2.attacks.carlini_wagner_l2 import carlini_wagner_l2\n",
    "\n",
    "#epsilon = 0.1\n",
    "\n",
    "\n",
    "#adv_example_untargeted_label = carlini_wagner_l2(logits_model,tf.cast(original_image,dtype=tf.float32))\n",
    "\n",
    "#adv_example_untargeted_label_pred = model.predict(adv_example_untargeted_label)\n",
    "\n",
    "#Show the image\n",
    "#plt.figure()\n",
    "#plt.grid(False)\n",
    "\n",
    "#plt.imshow(np.reshape(adv_example_untargeted_label, (28,28)))\n",
    "#plt.title(\"Model Prediction: {}\".format(np.argmax(adv_example_untargeted_label_pred)))\n",
    "#plt.xlabel(\"Original Label: {}\".format(original_label[0]))\n",
    "\n",
    "#plt.show()"
   ]
  },
  {
   "cell_type": "code",
   "execution_count": 39,
   "metadata": {},
   "outputs": [
    {
     "data": {
      "image/png": "[encoded data removed]",
      "text/plain": [
       "<Figure size 432x288 with 1 Axes>"
      ]
     },
     "metadata": {
      "needs_background": "light"
     },
     "output_type": "display_data"
    }
   ],
   "source": [
    "#BIM attack untargeted attack\n",
    "\n",
    "from cleverhans.tf2.attacks.basic_iterative_method import basic_iterative_method\n",
    "\n",
    "epsilon = 0.5\n",
    "epsilon_iter = 0.05\n",
    "nb_iter = 20\n",
    "\n",
    "adv_example_untargeted_label = basic_iterative_method(logits_model, tf.cast(original_image, dtype=tf.float32), epsilon,epsilon_iter, nb_iter, np.inf, targeted=False)\n",
    "\n",
    "adv_example_untargeted_label_pred = model.predict(adv_example_untargeted_label)\n",
    "\n",
    "#Show the image\n",
    "plt.figure()\n",
    "plt.grid(False)\n",
    "\n",
    "plt.imshow(np.reshape(adv_example_untargeted_label, (28,28)))\n",
    "plt.title(\"Model Prediction: {}\".format(np.argmax(adv_example_untargeted_label_pred)))\n",
    "plt.xlabel(\"Original Label: {}\".format(original_label[0]))\n",
    "\n",
    "plt.show()"
   ]
  },
  {
   "cell_type": "code",
   "execution_count": 40,
   "metadata": {},
   "outputs": [
    {
     "data": {
      "image/png": "[encoded data removed]",
      "text/plain": [
       "<Figure size 432x288 with 1 Axes>"
      ]
     },
     "metadata": {
      "needs_background": "light"
     },
     "output_type": "display_data"
    }
   ],
   "source": [
    "#Checking the PGD attack - untargeted\n",
    "\n",
    "from cleverhans.tf2.attacks.basic_iterative_method import basic_iterative_method\n",
    "\n",
    "epsilon = 0.5\n",
    "epsilon_iter = 0.02\n",
    "nb_iter = 50\n",
    "target = 3\n",
    "\n",
    "target_label = np.reshape(target, (1,)).astype('int64') # Give target label proper size and dtype to feed through\n",
    "\n",
    "adv_example_untargeted_label = basic_iterative_method(logits_model, tf.cast(original_image, dtype=tf.float32), epsilon,epsilon_iter, nb_iter, np.inf, y=target_label,targeted=True)\n",
    "\n",
    "adv_example_untargeted_label_pred = model.predict(adv_example_untargeted_label)\n",
    "\n",
    "#Show the image\n",
    "plt.figure()\n",
    "plt.grid(False)\n",
    "\n",
    "plt.imshow(np.reshape(adv_example_untargeted_label, (28,28)))\n",
    "plt.title(\"Model Prediction: {}\".format(np.argmax(adv_example_untargeted_label_pred)))\n",
    "plt.xlabel(\"Original Label: {}\".format(original_label[0]))\n",
    "\n",
    "plt.show()"
   ]
  },
  {
   "cell_type": "code",
   "execution_count": null,
   "metadata": {},
   "outputs": [],
   "source": []
  }
 ],
 "metadata": {
  "kernelspec": {
   "display_name": "Python 3",
   "language": "python",
   "name": "python3"
  },
  "language_info": {
   "codemirror_mode": {
    "name": "ipython",
    "version": 3
   },
   "file_extension": ".py",
   "mimetype": "text/x-python",
   "name": "python",
   "nbconvert_exporter": "python",
   "pygments_lexer": "ipython3",
   "version": "3.8.5"
  }
 },
 "nbformat": 4,
 "nbformat_minor": 4
}
